{
 "cells": [
  {
   "attachments": {},
   "cell_type": "markdown",
   "metadata": {},
   "source": [
    "# Price Scraper + Currency Converter\n",
    "## Scrape Product Prices & Convert Currency\n",
    "### Goal: \n",
    "Scrape product prices from a local e-commerce website and convert them into another currency (e.g., USD to KES).\n",
    "\n",
    "### Instructions:\n",
    "\n",
    "Use requests and BeautifulSoup to scrape prices of at least 10 products. Use this website - \"https://books.toscrape.com/\"\n",
    "\n",
    "Store product name and price (in original currency).\n",
    "\n",
    "Use a free currency conversion API (e.g., exchangerate-api.com or mock values).\n",
    "\n",
    "Convert prices to another currency and save the data into a CSV or JSON file.\n",
    "\n",
    "### Features to implement:\n",
    "\n",
    "Collect and clean product name + price.\n",
    "\n",
    "Display the products with converted prices in a readable table format using pandas or tabulate.\n",
    "\n",
    "Include error handling for connection issues.\n",
    "\n",
    "### Optional extensions:\n",
    "\n",
    "Allow user to select which currencies to convert between.\n",
    "\n",
    "Add timestamp for when conversion was done.\n",
    "\n",
    "Plot a simple bar chart of original vs. converted prices using matplotlib."
   ]
  }
 ],
 "metadata": {
  "kernelspec": {
   "display_name": "Python 3",
   "language": "python",
   "name": "python3"
  },
  "language_info": {
   "name": "python",
   "version": "3.12.7 (main, Nov  6 2024, 15:19:10) [Clang 12.0.0 (clang-1200.0.32.29)]"
  },
  "orig_nbformat": 4,
  "vscode": {
   "interpreter": {
    "hash": "f1062708a37074d70712b695aadee582e0b0b9f95f45576b5521424137d05fec"
   }
  }
 },
 "nbformat": 4,
 "nbformat_minor": 2
}
